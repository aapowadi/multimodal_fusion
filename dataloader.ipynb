{
 "cells": [
  {
   "cell_type": "code",
   "execution_count": 1,
   "metadata": {},
   "outputs": [],
   "source": [
    "import os\n",
    "import torch\n",
    "from torch.utils.data import Dataset\n",
    "import xarray as xr\n",
    "import numpy as np\n",
    "import rasterio\n",
    "import torchvision.transforms as transforms\n",
    "from datetime import datetime\n",
    "import matplotlib.pyplot as plt\n",
    "import torchvision.transforms.functional as F"
   ]
  },
  {
   "cell_type": "code",
   "execution_count": null,
   "metadata": {},
   "outputs": [],
   "source": [
    "class MultiModalDataset(Dataset):\n",
    "    def __init__(self, sentinel1_dir, sentinel2_dir, modis_dir, crop_dir, soil_dir, weather_dir, transform=None):\n",
    "        \"\"\"\n",
    "        Initialize the dataset using Sentinel-1 folder dates (YYYY-MM-DD) and random 16x16 patches\n",
    "        from a 1 mile x 1 mile area in WGS84 degrees.\n",
    "\n",
    "        Args:\n",
    "            sentinel1_dir (str): Directory for Sentinel-1 data (YYYY-MM-DD/vv.tif, vh.tif).\n",
    "            sentinel2_dir (str): Directory for Sentinel-2 data (YYYY-MM-DD/B01.tif, etc.).\n",
    "            modis_dir (str): Directory for MODIS data (YYYY-MM-DD/Band1.tif, etc.).\n",
    "            crop_dir (str): Directory containing crop data NetCDF files (IA_year.nc).\n",
    "            soil_file (str): Path to the soil NetCDF file (e.g., IA.nc) with variables 'nccpi3all', etc.\n",
    "            weather_dir (str): Directory containing weather data NetCDF files (IA_year.nc).\n",
    "            transform (callable, optional): Optional transform to apply to the data.\n",
    "        \"\"\"\n",
    "        self.sentinel1_dir = sentinel1_dir\n",
    "        self.sentinel2_dir = sentinel2_dir\n",
    "        self.modis_dir = modis_dir\n",
    "        self.cdl_dir = crop_dir\n",
    "        self.soil_dir = soil_dir\n",
    "        self.weather_dir = weather_dir\n",
    "        self.transform = transform\n",
    "        self.patch_size = 16  # 16x16 patch size\n",
    "        self.delta_lat = 0.01446  # 1 mile in latitude degrees (approx.)\n",
    "\n",
    "        # Get week_start_dates from Sentinel-1 folder, filter for April to September\n",
    "        self.week_start_dates = [\n",
    "            d for d in os.listdir(sentinel1_dir)\n",
    "            if os.path.isdir(os.path.join(sentinel1_dir, d)) and self._is_in_april_to_september(d)\n",
    "        ]\n",
    "        if not self.week_start_dates:\n",
    "            raise ValueError(\"No Sentinel-1 data found for April to September.\")\n",
    "\n",
    "        # Define all bands/variables\n",
    "        self.s1_bands = ['vv', 'vh']  # 2 bands\n",
    "        self.s2_bands = ['B01', 'B02', 'B03', 'B04', 'B05', 'B06', 'B07', 'B08', 'B8A', 'B09', 'B11', 'B12']  # 12 bands + 'B10' which is missing sometimes.\n",
    "        self.modis_bands = ['Band1', 'Band2', 'Band3', 'Band4', 'Band5', 'Band6', 'Band7']  # 7 bands\n",
    "        self.weather_bands = ['dayl', 'prcp', 'srad', 'swe', 'tmax', 'tmin', 'vp']  # 7 variables\n",
    "        self.cdl_bands = ['Band_1']  # Crop Data Layer: 120 classes representing land cover uses including different crops like 'Maize', 'Soy', etc.\n",
    "        self.soil_bands = ['nccpi3all', 'nccpi3corn', 'rootznaws', 'soc0_150', 'soc0_999', 'pctearthmc']  # 6 variables\n",
    "        # Get spatial bounds from a sample Sentinel-1 GeoTIFF\n",
    "        sample_s1_path = os.path.join(sentinel1_dir, self.week_start_dates[0], '4326_vv.tif')\n",
    "        with rasterio.open(sample_s1_path) as src:\n",
    "            self.bounds = src.bounds  # (left, bottom, right, top) in degrees\n",
    "            self.transform_geo = src.transform  # Geotransform to convert degrees to pixels\n",
    "            self.width, self.height = src.width, src.height\n",
    "\n",
    "    def _is_in_april_to_september(self, date_str):\n",
    "        \"\"\"Check if date_str (YYYY-MM-DD) is between April 1st and September 30th.\"\"\"\n",
    "        try:\n",
    "            date = datetime.strptime(date_str, '%Y-%m-%d')\n",
    "            month = date.month\n",
    "            day = date.day\n",
    "            return (month == 4 and day >= 1) or (4 < month < 9) or (month == 9 and day <= 30)\n",
    "        except ValueError:\n",
    "            return False\n",
    "        \n",
    "    def _load_and_crop_single_band(self, path, bbox):\n",
    "        \"\"\"Load and crop a single-band GeoTIFF using coordinate bounds, resize to 16x16.\"\"\"\n",
    "        with rasterio.open(path) as src:\n",
    "            window = rasterio.windows.from_bounds(*bbox, transform=src.transform)\n",
    "            data = src.read(1, window=window, boundless=True, fill_value=np.nan)  # Handle out-of-bounds\n",
    "            data_tensor = torch.from_numpy(data).float().unsqueeze(0)  # (1, height, width)\n",
    "            resized = F.resize(data_tensor, [16, 16], interpolation=F.InterpolationMode.BILINEAR)\n",
    "            return resized.squeeze(0)  # (16, 16)\n",
    "\n",
    "    def _load_and_crop_multi_band(self, path, bbox):\n",
    "        \"\"\"Load and crop a multi-band GeoTIFF using coordinate bounds, resize to 16x16.\"\"\"\n",
    "        with rasterio.open(path) as src:\n",
    "            window = rasterio.windows.from_bounds(*bbox, transform=src.transform)\n",
    "            data = src.read(window=window, boundless=True, fill_value=np.nan)  # (bands, height, width)\n",
    "            data_tensor = torch.from_numpy(data).float()  # (bands, height, width)\n",
    "            resized = F.resize(data_tensor, [16, 16], interpolation=F.InterpolationMode.BILINEAR)\n",
    "            return resized  # (bands, 16, 16)\n",
    "\n",
    "    def _random_patch_coords(self):\n",
    "        \"\"\"Generate random center and calculate 1-mile x 1-mile bounding box in degrees.\"\"\"\n",
    "        # Get bounds from a sample GeoTIFF, e.g., Sentinel-1\n",
    "        sample_path = os.path.join(self.sentinel1_dir, self.week_start_dates[0], '4326_vv.tif')\n",
    "        with rasterio.open(sample_path) as src:\n",
    "            bounds = src.bounds  # (left, bottom, right, top) in degrees\n",
    "        \n",
    "        # Random center within bounds, leaving room for 1-mile extent\n",
    "        lon_min = bounds.left + self.delta_lat / 2\n",
    "        lon_max = bounds.right - self.delta_lat / 2\n",
    "        lat_min = bounds.bottom + self.delta_lat / 2\n",
    "        lat_max = bounds.top - self.delta_lat / 2\n",
    "        \n",
    "        lat_center = np.random.uniform(lat_min, lat_max)\n",
    "        lon_center = np.random.uniform(lon_min, lon_max)\n",
    "        \n",
    "        # Calculate 1-mile extents\n",
    "        delta_lat = 0.01446  # Fixed for latitude\n",
    "        delta_lon = delta_lat / np.cos(np.radians(lat_center))  # Adjust for latitude\n",
    "        \n",
    "        # Define bounding box\n",
    "        left = lon_center - delta_lon / 2\n",
    "        right = lon_center + delta_lon / 2\n",
    "        bottom = lat_center - delta_lat / 2\n",
    "        top = lat_center + delta_lat / 2\n",
    "        \n",
    "        return left, bottom, right, top\n",
    "\n",
    "    def __len__(self):\n",
    "        return len(self.week_start_dates)\n",
    "\n",
    "    def __getitem__(self, idx):\n",
    "        week_start_date = self.week_start_dates[idx]\n",
    "        year = week_start_date.split('-')[0]\n",
    "        week_start_date = self.week_start_dates[idx]\n",
    "        bbox = self._random_patch_coords()  # (left, bottom, right, top)\n",
    "        \n",
    "        # Sentinel-1 (separate files)\n",
    "        s1_folder = os.path.join(self.sentinel1_dir, week_start_date)\n",
    "        s1_patches = []\n",
    "        for band in self.s1_bands:\n",
    "            path = os.path.join(s1_folder, f'4326_{band}.tif')\n",
    "            patch = self._load_and_crop_single_band(path, bbox)\n",
    "            s1_patches.append(patch)\n",
    "        s1_tensor = torch.stack(s1_patches, dim=0)  # (2, 16, 16)\n",
    "        \n",
    "        # Sentinel-2 (separate files)\n",
    "        s2_folder = os.path.join(self.sentinel2_dir, week_start_date)\n",
    "        s2_patches = []\n",
    "        for band in self.s2_bands:\n",
    "            path = os.path.join(s2_folder, f'4326_{band}.tif')\n",
    "            patch = self._load_and_crop_single_band(path, bbox)\n",
    "            s2_patches.append(patch)\n",
    "        s2_tensor = torch.stack(s2_patches, dim=0)  # (13, 16, 16)\n",
    "        \n",
    "        # MODIS (separate files)\n",
    "        modis_folder = os.path.join(self.modis_dir, week_start_date)\n",
    "        modis_patches = []\n",
    "        for band in self.modis_bands:\n",
    "            path = os.path.join(modis_folder, f'4326_{band}.tif')\n",
    "            patch = self._load_and_crop_single_band(path, bbox)\n",
    "            modis_patches.append(patch)\n",
    "        modis_tensor = torch.stack(modis_patches, dim=0)  # (7, 16, 16)\n",
    "        \n",
    "        # Crop (single-band)\n",
    "        crop_path = os.path.join(self.cdl_dir, f'{year}_WGS84.tif')\n",
    "        cdl_tensor = self._load_and_crop_single_band(crop_path, bbox).unsqueeze(0)  # (1, 16, 16)\n",
    "\n",
    "        # 4. soil data (all bands)\n",
    "        soil_patches = []\n",
    "        for band in self.soil_bands:\n",
    "            path = os.path.join(self.soil_dir, f'merged_max_{band}_resampled_new.tif')\n",
    "            patch = self._load_and_crop_single_band(path, bbox)\n",
    "            soil_patches.append(patch)\n",
    "        soil_tensor = torch.stack(soil_patches, dim=0)  # (6, 16, 16)\n",
    "\n",
    "\n",
    "        # Weather data (separate files)\n",
    "        # cropped_ds = ds.sel(\n",
    "        # lon=slice(bbox['left'], bbox['right']),\n",
    "        # lat=slice(bbox['bottom'], bbox['top']))\n",
    "        weather_patches = []\n",
    "        date = datetime.strptime(f'{week_start_date}', '%Y-%m-%d')\n",
    "        doy = date.timetuple().tm_yday\n",
    "        for band in self.weather_bands:\n",
    "            week_avg = []\n",
    "            for i in range(doy,doy+7):\n",
    "                date_s = datetime.strptime(f'{year}-{doy}', '%Y-%j').date()\n",
    "                date_str = f\"{date_s.year}-{date_s.month}-{date_s.day}\"\n",
    "                path = os.path.join(self.weather_dir, band, f'{date_str}.tif')\n",
    "                patch = self._load_and_crop_single_band(path, bbox)\n",
    "                week_avg.append(patch)\n",
    "            weather_patches.append(patch)\n",
    "        weather_tensor = torch.stack(weather_patches, dim=0)  # (7, 16, 16)\n",
    "\n",
    "        # Stack modalities into a list (variable channels per modality)\n",
    "        modalities = [s1_tensor, s2_tensor, modis_tensor, cdl_tensor, soil_tensor, weather_tensor]\n",
    "        # Shapes: [(2, 16, 16), (13, 16, 16), (7, 16, 16), (N_crop, 16, 16), (6, 16, 16), (7, 16, 16)]\n",
    "\n",
    "        if self.transform:\n",
    "            modalities = [self.transform(m) for m in modalities]\n",
    "\n",
    "        # Dummy label (replace with actual labels if available)\n",
    "        label = 0\n",
    "\n",
    "        return modalities, label"
   ]
  },
  {
   "cell_type": "code",
   "execution_count": 5,
   "metadata": {},
   "outputs": [],
   "source": [
    "def display_sample(dataset, sample_idx=0):\n",
    "    modalities, label = dataset[sample_idx]\n",
    "    modality_names = ['Sentinel-1', 'Sentinel-2', 'MODIS', 'Crop', 'Soil', 'Weather'] # \n",
    "    \n",
    "    def normalize_channel(channel, percentile=2):\n",
    "        vmin = np.percentile(channel, percentile)\n",
    "        vmax = np.percentile(channel, 100 - percentile)\n",
    "        channel = (channel - vmin) / (vmax - vmin)\n",
    "        channel = np.clip(channel, 0, 1)\n",
    "        return channel\n",
    "    \n",
    "    fig, axes = plt.subplots(1, len(modalities), figsize=(20, 4))\n",
    "    \n",
    "    for i, (modality, name) in enumerate(zip(modalities, modality_names)):\n",
    "        if name == 'Crop':\n",
    "            # Display segmentation map with color for each class\n",
    "            print('plotting land cover classes')\n",
    "            label_map = modality[0].numpy()  # (16, 16)\n",
    "            unique_labels = np.unique(label_map)\n",
    "            num_classes = len(unique_labels)\n",
    "            cmap = plt.get_cmap('tab20', num_classes)  # Use tab20 for up to 20 classes\n",
    "            im = axes[i].imshow(label_map, cmap=cmap, interpolation='nearest')\n",
    "            cbar = fig.colorbar(im, ax=axes[i], orientation='vertical', fraction=0.05)\n",
    "            cbar.set_label('Class Label')\n",
    "        elif name == 'Sentinel-2':\n",
    "            # RGB composite: B04 (red, index 3), B03 (green, index 2), B02 (blue, index 1)\n",
    "            print('plotting Sentinel-2 data')\n",
    "            r = normalize_channel(modality[3].numpy())\n",
    "            g = normalize_channel(modality[2].numpy())\n",
    "            b = normalize_channel(modality[1].numpy())\n",
    "            rgb = np.stack([r, g, b], axis=-1)\n",
    "            axes[i].imshow(rgb)\n",
    "        elif name == 'MODIS':\n",
    "            # RGB composite: Band1 (red, index 0), Band4 (green, index 3), Band3 (blue, index 2)\n",
    "            print('plotting MODIS data')\n",
    "            r = normalize_channel(modality[0].numpy())\n",
    "            g = normalize_channel(modality[3].numpy())\n",
    "            b = normalize_channel(modality[2].numpy())\n",
    "            rgb = np.stack([r, g, b], axis=-1)\n",
    "            axes[i].imshow(rgb)\n",
    "        elif name == 'Weather':\n",
    "            print('plotting Weather variable')\n",
    "            channel = normalize_channel(modality[4].numpy())\n",
    "            axes[i].imshow(channel, cmap='pink')\n",
    "        else:\n",
    "            # Grayscale for other modalities, using first channel\n",
    "            print('plotting soil variable')\n",
    "            channel = normalize_channel(modality[0].numpy())\n",
    "            axes[i].imshow(channel, cmap='gray')\n",
    "        axes[i].set_title(name)\n",
    "        axes[i].axis('off')\n",
    "    \n",
    "    plt.show()"
   ]
  },
  {
   "cell_type": "code",
   "execution_count": 9,
   "metadata": {},
   "outputs": [
    {
     "name": "stdout",
     "output_type": "stream",
     "text": [
      "plotting soil variable\n",
      "plotting Sentinel-2 data\n",
      "plotting MODIS data\n",
      "plotting land cover classes\n",
      "plotting soil variable\n",
      "plotting Weather variable\n"
     ]
    },
    {
     "data": {
      "image/png": "[encoded data removed]",
      "text/plain": [
       "<Figure size 2000x400 with 7 Axes>"
      ]
     },
     "metadata": {},
     "output_type": "display_data"
    }
   ],
   "source": [
    "# Example usage:\n",
    "dataset = MultiModalDataset(\n",
    "    sentinel1_dir='/work/mech-ai-scratch/rtali/gis-sentinel1/final_s1',\n",
    "    sentinel2_dir='/work/mech-ai-scratch/rtali/gis-sentinel2/final_s2_v3',\n",
    "    modis_dir='/work/mech-ai-scratch/rtali/gis-modis/modis',\n",
    "    crop_dir='/work/mech-ai-scratch/rtali/gis-CDL/final_CDL',\n",
    "    soil_dir='/work/mech-ai-scratch/rtali/AI_READY_IOWA/SOIL/CRSchange',\n",
    "    weather_dir='/work/mech-ai-scratch/rtali/AI_READY_IOWA/WEATHER_TIFFS',\n",
    "    transform=transforms.Normalize(mean=[0.5], std=[0.5])  # Adjust mean/std per channel if needed\n",
    ")\n",
    "\n",
    "# Get channel counts\n",
    "num_channels_list = [\n",
    "    len(dataset.s1_bands),      # 2 (Sentinel-1)\n",
    "    len(dataset.s2_bands),      # 13 (Sentinel-2)\n",
    "    len(dataset.modis_bands),   # 7 (MODIS)\n",
    "    len(dataset.cdl_bands),     # Update with actual count\n",
    "    len(dataset.soil_bands),     # 6 (Soil)\n",
    "    len(dataset.weather_bands)   # 7 (Weather)\n",
    "]\n",
    "display_sample(dataset)"
   ]
  },
  {
   "cell_type": "code",
   "execution_count": 8,
   "metadata": {},
   "outputs": [
    {
     "data": {
      "text/plain": [
       "tensor([[nan, nan, nan, nan, nan, nan, nan, nan, nan, nan, nan, nan, nan, nan, nan, nan],\n",
       "        [nan, nan, nan, nan, nan, nan, nan, nan, nan, nan, nan, nan, nan, nan, nan, nan],\n",
       "        [nan, nan, nan, nan, nan, nan, nan, nan, nan, nan, nan, nan, nan, nan, nan, nan],\n",
       "        [nan, nan, nan, nan, nan, nan, nan, nan, nan, nan, nan, nan, nan, nan, nan, nan],\n",
       "        [nan, nan, nan, nan, nan, nan, nan, nan, nan, nan, nan, nan, nan, nan, nan, nan],\n",
       "        [nan, nan, nan, nan, nan, nan, nan, nan, nan, nan, nan, nan, nan, nan, nan, nan],\n",
       "        [nan, nan, nan, nan, nan, nan, nan, nan, nan, nan, nan, nan, nan, nan, nan, nan],\n",
       "        [nan, nan, nan, nan, nan, nan, nan, nan, nan, nan, nan, nan, nan, nan, nan, nan],\n",
       "        [nan, nan, nan, nan, nan, nan, nan, nan, nan, nan, nan, nan, nan, nan, nan, nan],\n",
       "        [nan, nan, nan, nan, nan, nan, nan, nan, nan, nan, nan, nan, nan, nan, nan, nan],\n",
       "        [nan, nan, nan, nan, nan, nan, nan, nan, nan, nan, nan, nan, nan, nan, nan, nan],\n",
       "        [nan, nan, nan, nan, nan, nan, nan, nan, nan, nan, nan, nan, nan, nan, nan, nan],\n",
       "        [nan, nan, nan, nan, nan, nan, nan, nan, nan, nan, nan, nan, nan, nan, nan, nan],\n",
       "        [nan, nan, nan, nan, nan, nan, nan, nan, nan, nan, nan, nan, nan, nan, nan, nan],\n",
       "        [nan, nan, nan, nan, nan, nan, nan, nan, nan, nan, nan, nan, nan, nan, nan, nan],\n",
       "        [nan, nan, nan, nan, nan, nan, nan, nan, nan, nan, nan, nan, nan, nan, nan, nan]])"
      ]
     },
     "execution_count": 8,
     "metadata": {},
     "output_type": "execute_result"
    }
   ],
   "source": [
    "sample = dataset[0][0]\n",
    "sample[5][4]"
   ]
  },
  {
   "cell_type": "code",
   "execution_count": null,
   "metadata": {},
   "outputs": [],
   "source": [
    "soil_dir = '/work/mech-ai-scratch/rtali/AI_READY_IOWA/SOIL'\n",
    "soil_bands = ['nccpi3all', 'nccpi3corn', 'rootznaws', 'soc0_150', 'soc0_999', 'pctearthmc']  # 6 variables\n",
    "path = os.path.join(soil_dir, f'merged_max_{soil_bands[0]}_resampled.tif')\n",
    "bbox = dataset._random_patch_coords()  # (left, bottom, right, top)\n",
    "bbox"
   ]
  },
  {
   "cell_type": "code",
   "execution_count": null,
   "metadata": {},
   "outputs": [],
   "source": [
    "with rasterio.open(path) as src:\n",
    "    window = rasterio.windows.from_bounds(*bbox, transform=src.transform)\n",
    "    data = src.read(1, window=window, boundless=True, fill_value=np.nan)  # Handle out-of-bounds\n",
    "window\n"
   ]
  },
  {
   "cell_type": "code",
   "execution_count": null,
   "metadata": {},
   "outputs": [],
   "source": [
    "sample = dataset[0][0]"
   ]
  },
  {
   "cell_type": "code",
   "execution_count": null,
   "metadata": {},
   "outputs": [],
   "source": [
    "weather_dir = '/work/mech-ai-scratch/rtali/AI_READY_IOWA/WEATHER'\n",
    "weather_vars = ['dayl', 'prcp', 'srad', 'swe', 'tmax', 'tmin', 'vp']  # 7 variables\n",
    "path = os.path.join(weather_dir,f'IA_2023.nc')\n",
    "w_data = xr.open_dataset(path)\n",
    "date = datetime.strptime('2023-07-23', '%Y-%m-%d')\n",
    "w_data = w_data.isel(time=date.timetuple().tm_yday)\n",
    "w_data.dayl\n"
   ]
  },
  {
   "cell_type": "code",
   "execution_count": null,
   "metadata": {},
   "outputs": [],
   "source": [
    "sample[5][5].max()"
   ]
  },
  {
   "cell_type": "code",
   "execution_count": 14,
   "metadata": {},
   "outputs": [
    {
     "data": {
      "text/plain": [
       "'2023-5-30'"
      ]
     },
     "execution_count": 14,
     "metadata": {},
     "output_type": "execute_result"
    }
   ],
   "source": [
    "year = '2023'\n",
    "doy = 150\n",
    "date = datetime.strptime(f'{year}-{doy}', '%Y-%j').date()\n",
    "date_str = f\"{date.year}-{date.month}-{date.day}\"\n",
    "date_str"
   ]
  },
  {
   "cell_type": "code",
   "execution_count": 13,
   "metadata": {},
   "outputs": [
    {
     "data": {
      "text/plain": [
       "datetime.date(2023, 5, 30)"
      ]
     },
     "execution_count": 13,
     "metadata": {},
     "output_type": "execute_result"
    }
   ],
   "source": [
    "date"
   ]
  },
  {
   "cell_type": "code",
   "execution_count": null,
   "metadata": {},
   "outputs": [],
   "source": []
  }
 ],
 "metadata": {
  "kernelspec": {
   "display_name": "Python 3 (ipykernel)",
   "language": "python",
   "name": "python3"
  },
  "language_info": {
   "codemirror_mode": {
    "name": "ipython",
    "version": 3
   },
   "file_extension": ".py",
   "mimetype": "text/x-python",
   "name": "python",
   "nbconvert_exporter": "python",
   "pygments_lexer": "ipython3",
   "version": "3.11.11"
  }
 },
 "nbformat": 4,
 "nbformat_minor": 2
}
