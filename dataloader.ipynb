{
 "cells": [
  {
   "cell_type": "code",
   "execution_count": 1,
   "metadata": {},
   "outputs": [],
   "source": [
    "import os\n",
    "import torch\n",
    "from torch.utils.data import Dataset\n",
    "import xarray as xr\n",
    "import numpy as np\n",
    "import rasterio\n",
    "import torchvision.transforms as transforms\n",
    "from datetime import datetime\n",
    "import matplotlib.pyplot as plt\n",
    "import torchvision.transforms.functional as F"
   ]
  },
  {
   "cell_type": "code",
   "execution_count": 2,
   "metadata": {},
   "outputs": [],
   "source": [
    "class MultiModalDataset(Dataset):\n",
    "    def __init__(self, sentinel1_dir, sentinel2_dir, modis_dir, crop_dir, soil_dir, weather_dir, transform=None):\n",
    "        \"\"\"\n",
    "        Initialize the dataset using Sentinel-1 folder dates (YYYY-MM-DD) and random 16x16 patches\n",
    "        from a 1 mile x 1 mile area in WGS84 degrees.\n",
    "\n",
    "        Args:\n",
    "            sentinel1_dir (str): Directory for Sentinel-1 data (YYYY-MM-DD/vv.tif, vh.tif).\n",
    "            sentinel2_dir (str): Directory for Sentinel-2 data (YYYY-MM-DD/B01.tif, etc.).\n",
    "            modis_dir (str): Directory for MODIS data (YYYY-MM-DD/Band1.tif, etc.).\n",
    "            crop_dir (str): Directory containing crop data NetCDF files (IA_year.nc).\n",
    "            soil_file (str): Path to the soil NetCDF file (e.g., IA.nc) with variables 'nccpi3all', etc.\n",
    "            weather_dir (str): Directory containing weather data NetCDF files (IA_year.nc).\n",
    "            transform (callable, optional): Optional transform to apply to the data.\n",
    "        \"\"\"\n",
    "        self.sentinel1_dir = sentinel1_dir\n",
    "        self.sentinel2_dir = sentinel2_dir\n",
    "        self.modis_dir = modis_dir\n",
    "        self.cdl_dir = crop_dir\n",
    "        self.soil_dir = soil_dir\n",
    "        self.weather_dir = weather_dir\n",
    "        self.transform = transform\n",
    "        self.patch_size = 16  # 16x16 patch size\n",
    "        self.delta_lat = 0.01446  # 1 mile in latitude degrees (approx.)\n",
    "\n",
    "        # Get week_start_dates from Sentinel-1 folder, filter for April to September\n",
    "        self.week_start_dates = [\n",
    "            d for d in os.listdir(sentinel1_dir)\n",
    "            if os.path.isdir(os.path.join(sentinel1_dir, d)) and self._is_in_april_to_september(d)\n",
    "        ]\n",
    "        if not self.week_start_dates:\n",
    "            raise ValueError(\"No Sentinel-1 data found for April to September.\")\n",
    "\n",
    "        # Define all bands/variables\n",
    "        self.s1_bands = ['vv', 'vh']  # 2 bands\n",
    "        self.s2_bands = ['B01', 'B02', 'B03', 'B04', 'B05', 'B06', 'B07', 'B08', 'B8A', 'B09', 'B11', 'B12']  # 12 bands + 'B10' which is missing sometimes.\n",
    "        self.modis_bands = ['Band1', 'Band2', 'Band3', 'Band4', 'Band5', 'Band6', 'Band7']  # 7 bands\n",
    "        self.weather_bands = ['dayl', 'prcp', 'srad', 'swe', 'tmax', 'tmin', 'vp']  # 7 variables\n",
    "        self.cdl_bands = ['Band_1']  # Crop Data Layer: 120 classes representing land cover uses including different crops like 'Maize', 'Soy', etc.\n",
    "        self.soil_bands = ['nccpi3all', 'nccpi3corn', 'rootznaws', 'soc0_150', 'soc0_999', 'pctearthmc']  # 6 variables\n",
    "        # Get spatial bounds from a sample Sentinel-1 GeoTIFF\n",
    "        sample_s1_path = os.path.join(sentinel1_dir, self.week_start_dates[0], '4326_vv.tif')\n",
    "        with rasterio.open(sample_s1_path) as src:\n",
    "            self.bounds = src.bounds  # (left, bottom, right, top) in degrees\n",
    "            self.transform_geo = src.transform  # Geotransform to convert degrees to pixels\n",
    "            self.width, self.height = src.width, src.height\n",
    "\n",
    "    def _is_in_april_to_september(self, date_str):\n",
    "        \"\"\"Check if date_str (YYYY-MM-DD) is between April 1st and September 30th.\"\"\"\n",
    "        try:\n",
    "            date = datetime.strptime(date_str, '%Y-%m-%d')\n",
    "            month = date.month\n",
    "            day = date.day\n",
    "            return (month == 4 and day >= 1) or (4 < month < 9) or (month == 9 and day <= 30)\n",
    "        except ValueError:\n",
    "            return False\n",
    "        \n",
    "    def _load_and_crop_single_band(self, path, bbox):\n",
    "        \"\"\"Load and crop a single-band GeoTIFF using coordinate bounds, resize to 16x16.\"\"\"\n",
    "        with rasterio.open(path) as src:\n",
    "            window = rasterio.windows.from_bounds(*bbox, transform=src.transform)\n",
    "            data = src.read(1, window=window, boundless=True, fill_value=np.nan)  # Handle out-of-bounds\n",
    "            data_tensor = torch.from_numpy(data).float().unsqueeze(0)  # (1, height, width)\n",
    "            resized = F.resize(data_tensor, [16, 16], interpolation=F.InterpolationMode.BILINEAR)\n",
    "            return resized.squeeze(0)  # (16, 16)\n",
    "\n",
    "    def _load_and_crop_multi_band(self, path, bbox):\n",
    "        \"\"\"Load and crop a multi-band GeoTIFF using coordinate bounds, resize to 16x16.\"\"\"\n",
    "        with rasterio.open(path) as src:\n",
    "            window = rasterio.windows.from_bounds(*bbox, transform=src.transform)\n",
    "            data = src.read(window=window, boundless=True, fill_value=np.nan)  # (bands, height, width)\n",
    "            data_tensor = torch.from_numpy(data).float()  # (bands, height, width)\n",
    "            resized = F.resize(data_tensor, [16, 16], interpolation=F.InterpolationMode.BILINEAR)\n",
    "            return resized  # (bands, 16, 16)\n",
    "\n",
    "    def _random_patch_coords(self):\n",
    "        \"\"\"Generate random center and calculate 1-mile x 1-mile bounding box in degrees.\"\"\"\n",
    "        # Get bounds from a sample GeoTIFF, e.g., Sentinel-1\n",
    "        sample_path = os.path.join(self.sentinel1_dir, self.week_start_dates[0], '4326_vv.tif')\n",
    "        with rasterio.open(sample_path) as src:\n",
    "            bounds = src.bounds  # (left, bottom, right, top) in degrees\n",
    "        \n",
    "        # Random center within bounds, leaving room for 1-mile extent\n",
    "        lon_min = bounds.left + self.delta_lat / 2\n",
    "        lon_max = bounds.right - self.delta_lat / 2\n",
    "        lat_min = bounds.bottom + self.delta_lat / 2\n",
    "        lat_max = bounds.top - self.delta_lat / 2\n",
    "        \n",
    "        lat_center = np.random.uniform(lat_min, lat_max)\n",
    "        lon_center = np.random.uniform(lon_min, lon_max)\n",
    "        \n",
    "        # Calculate 1-mile extents\n",
    "        delta_lat = 0.01446  # Fixed for latitude\n",
    "        delta_lon = delta_lat / np.cos(np.radians(lat_center))  # Adjust for latitude\n",
    "        \n",
    "        # Define bounding box\n",
    "        left = lon_center - delta_lon / 2\n",
    "        right = lon_center + delta_lon / 2\n",
    "        bottom = lat_center - delta_lat / 2\n",
    "        top = lat_center + delta_lat / 2\n",
    "        \n",
    "        return left, bottom, right, top\n",
    "\n",
    "    def __len__(self):\n",
    "        return len(self.week_start_dates)\n",
    "\n",
    "    def __getitem__(self, idx):\n",
    "        week_start_date = self.week_start_dates[idx]\n",
    "        year = week_start_date.split('-')[0]\n",
    "        week_start_date = self.week_start_dates[idx]\n",
    "        bbox = self._random_patch_coords()  # (left, bottom, right, top)\n",
    "        \n",
    "        # Sentinel-1 (separate files)\n",
    "        s1_folder = os.path.join(self.sentinel1_dir, week_start_date)\n",
    "        s1_patches = []\n",
    "        for band in self.s1_bands:\n",
    "            path = os.path.join(s1_folder, f'4326_{band}.tif')\n",
    "            patch = self._load_and_crop_single_band(path, bbox)\n",
    "            s1_patches.append(patch)\n",
    "        s1_tensor = torch.stack(s1_patches, dim=0)  # (2, 16, 16)\n",
    "        \n",
    "        # Sentinel-2 (separate files)\n",
    "        s2_folder = os.path.join(self.sentinel2_dir, week_start_date)\n",
    "        s2_patches = []\n",
    "        for band in self.s2_bands:\n",
    "            path = os.path.join(s2_folder, f'4326_{band}.tif')\n",
    "            patch = self._load_and_crop_single_band(path, bbox)\n",
    "            s2_patches.append(patch)\n",
    "        s2_tensor = torch.stack(s2_patches, dim=0)  # (13, 16, 16)\n",
    "        \n",
    "        # MODIS (separate files)\n",
    "        modis_folder = os.path.join(self.modis_dir, week_start_date)\n",
    "        modis_patches = []\n",
    "        for band in self.modis_bands:\n",
    "            path = os.path.join(modis_folder, f'4326_{band}.tif')\n",
    "            patch = self._load_and_crop_single_band(path, bbox)\n",
    "            modis_patches.append(patch)\n",
    "        modis_tensor = torch.stack(modis_patches, dim=0)  # (7, 16, 16)\n",
    "        \n",
    "        # Crop (single-band)\n",
    "        crop_path = os.path.join(self.cdl_dir, f'{year}_WGS84.tif')\n",
    "        cdl_tensor = self._load_and_crop_single_band(crop_path, bbox).unsqueeze(0)  # (1, 16, 16)\n",
    "\n",
    "        # 4. soil data (all bands)\n",
    "        # soil_patches = []\n",
    "        # for band in self.soil_bands:\n",
    "        #     path = os.path.join(self.soil_dir, f'merged_max_{band}_resampled.tif')\n",
    "        #     patch = self._load_and_crop_single_band(path, bbox)\n",
    "        #     soil_patches.append(patch)\n",
    "        # soil_tensor = torch.stack(soil_patches, dim=0)  # (6, 16, 16)\n",
    "\n",
    "        # 4. Weather data (all bands)\n",
    "        weather_path = os.path.join(self.weather_dir, f'{week_start_date}.tif')\n",
    "        weather_tensor = self._load_and_crop_multi_band(weather_path, bbox)  # (7, 16, 16)\n",
    "\n",
    "        # Stack modalities into a list (variable channels per modality)\n",
    "        modalities = [s1_tensor, s2_tensor, modis_tensor, cdl_tensor, weather_tensor]\n",
    "        # Shapes: [(2, 16, 16), (13, 16, 16), (7, 16, 16), (N_crop, 16, 16), (6, 16, 16), (7, 16, 16)]\n",
    "\n",
    "        if self.transform:\n",
    "            modalities = [self.transform(m) for m in modalities]\n",
    "\n",
    "        # Dummy label (replace with actual labels if available)\n",
    "        label = 0\n",
    "\n",
    "        return modalities, label"
   ]
  },
  {
   "cell_type": "code",
   "execution_count": 3,
   "metadata": {},
   "outputs": [],
   "source": [
    "def display_sample(dataset, sample_idx=0):\n",
    "    modalities, label = dataset[sample_idx]\n",
    "    modality_names = ['Sentinel-1', 'Sentinel-2', 'MODIS', 'Crop', 'Weather'] # 'Soil'\n",
    "    \n",
    "    def normalize_channel(channel, percentile=2):\n",
    "        vmin = np.percentile(channel, percentile)\n",
    "        vmax = np.percentile(channel, 100 - percentile)\n",
    "        channel = (channel - vmin) / (vmax - vmin)\n",
    "        channel = np.clip(channel, 0, 1)\n",
    "        return channel\n",
    "    \n",
    "    fig, axes = plt.subplots(1, len(modalities), figsize=(20, 4))\n",
    "    \n",
    "    for i, (modality, name) in enumerate(zip(modalities, modality_names)):\n",
    "        if name == 'Crop':\n",
    "            # Display segmentation map with color for each class\n",
    "            label_map = modality[0].numpy()  # (16, 16)\n",
    "            unique_labels = np.unique(label_map)\n",
    "            num_classes = len(unique_labels)\n",
    "            cmap = plt.get_cmap('tab20', num_classes)  # Use tab20 for up to 20 classes\n",
    "            im = axes[i].imshow(label_map, cmap=cmap, interpolation='nearest')\n",
    "            cbar = fig.colorbar(im, ax=axes[i], orientation='vertical', fraction=0.05)\n",
    "            cbar.set_label('Class Label')\n",
    "        elif name == 'Sentinel-2':\n",
    "            # RGB composite: B04 (red, index 3), B03 (green, index 2), B02 (blue, index 1)\n",
    "            r = normalize_channel(modality[3].numpy())\n",
    "            g = normalize_channel(modality[2].numpy())\n",
    "            b = normalize_channel(modality[1].numpy())\n",
    "            rgb = np.stack([r, g, b], axis=-1)\n",
    "            axes[i].imshow(rgb)\n",
    "        elif name == 'MODIS':\n",
    "            # RGB composite: Band1 (red, index 0), Band4 (green, index 3), Band3 (blue, index 2)\n",
    "            r = normalize_channel(modality[0].numpy())\n",
    "            g = normalize_channel(modality[3].numpy())\n",
    "            b = normalize_channel(modality[2].numpy())\n",
    "            rgb = np.stack([r, g, b], axis=-1)\n",
    "            axes[i].imshow(rgb)\n",
    "        elif name == 'Weather':\n",
    "            axes[i].imshow(modality.numpy(), cmap='pink')\n",
    "        else:\n",
    "            # Grayscale for other modalities, using first channel\n",
    "            channel = normalize_channel(modality[0].numpy())\n",
    "            axes[i].imshow(channel, cmap='gray')\n",
    "        axes[i].set_title(name)\n",
    "        axes[i].axis('off')\n",
    "    \n",
    "    plt.show()"
   ]
  },
  {
   "cell_type": "code",
   "execution_count": 4,
   "metadata": {},
   "outputs": [
    {
     "ename": "TypeError",
     "evalue": "Invalid shape (7, 16, 16) for image data",
     "output_type": "error",
     "traceback": [
      "\u001b[31m---------------------------------------------------------------------------\u001b[39m",
      "\u001b[31mTypeError\u001b[39m                                 Traceback (most recent call last)",
      "\u001b[36mCell\u001b[39m\u001b[36m \u001b[39m\u001b[32mIn[4]\u001b[39m\u001b[32m, line 21\u001b[39m\n\u001b[32m     12\u001b[39m \u001b[38;5;66;03m# Get channel counts\u001b[39;00m\n\u001b[32m     13\u001b[39m num_channels_list = [\n\u001b[32m     14\u001b[39m     \u001b[38;5;28mlen\u001b[39m(dataset.s1_bands),      \u001b[38;5;66;03m# 2 (Sentinel-1)\u001b[39;00m\n\u001b[32m     15\u001b[39m     \u001b[38;5;28mlen\u001b[39m(dataset.s2_bands),      \u001b[38;5;66;03m# 13 (Sentinel-2)\u001b[39;00m\n\u001b[32m   (...)\u001b[39m\u001b[32m     19\u001b[39m     \u001b[38;5;28mlen\u001b[39m(dataset.weather_bands)   \u001b[38;5;66;03m# 7 (Weather)\u001b[39;00m\n\u001b[32m     20\u001b[39m ]\n\u001b[32m---> \u001b[39m\u001b[32m21\u001b[39m \u001b[43mdisplay_sample\u001b[49m\u001b[43m(\u001b[49m\u001b[43mdataset\u001b[49m\u001b[43m)\u001b[49m\n",
      "\u001b[36mCell\u001b[39m\u001b[36m \u001b[39m\u001b[32mIn[3]\u001b[39m\u001b[32m, line 39\u001b[39m, in \u001b[36mdisplay_sample\u001b[39m\u001b[34m(dataset, sample_idx)\u001b[39m\n\u001b[32m     37\u001b[39m     axes[i].imshow(rgb)\n\u001b[32m     38\u001b[39m \u001b[38;5;28;01melif\u001b[39;00m name == \u001b[33m'\u001b[39m\u001b[33mWeather\u001b[39m\u001b[33m'\u001b[39m:\n\u001b[32m---> \u001b[39m\u001b[32m39\u001b[39m     \u001b[43maxes\u001b[49m\u001b[43m[\u001b[49m\u001b[43mi\u001b[49m\u001b[43m]\u001b[49m\u001b[43m.\u001b[49m\u001b[43mimshow\u001b[49m\u001b[43m(\u001b[49m\u001b[43mmodality\u001b[49m\u001b[43m.\u001b[49m\u001b[43mnumpy\u001b[49m\u001b[43m(\u001b[49m\u001b[43m)\u001b[49m\u001b[43m,\u001b[49m\u001b[43m \u001b[49m\u001b[43mcmap\u001b[49m\u001b[43m=\u001b[49m\u001b[33;43m'\u001b[39;49m\u001b[33;43mpink\u001b[39;49m\u001b[33;43m'\u001b[39;49m\u001b[43m)\u001b[49m\n\u001b[32m     40\u001b[39m \u001b[38;5;28;01melse\u001b[39;00m:\n\u001b[32m     41\u001b[39m     \u001b[38;5;66;03m# Grayscale for other modalities, using first channel\u001b[39;00m\n\u001b[32m     42\u001b[39m     channel = normalize_channel(modality[\u001b[32m0\u001b[39m].numpy())\n",
      "\u001b[36mFile \u001b[39m\u001b[32m/work/mech-ai-scratch/aapowadi/miniforge3/envs/multi/lib/python3.11/site-packages/matplotlib/__init__.py:1521\u001b[39m, in \u001b[36m_preprocess_data.<locals>.inner\u001b[39m\u001b[34m(ax, data, *args, **kwargs)\u001b[39m\n\u001b[32m   1518\u001b[39m \u001b[38;5;129m@functools\u001b[39m.wraps(func)\n\u001b[32m   1519\u001b[39m \u001b[38;5;28;01mdef\u001b[39;00m\u001b[38;5;250m \u001b[39m\u001b[34minner\u001b[39m(ax, *args, data=\u001b[38;5;28;01mNone\u001b[39;00m, **kwargs):\n\u001b[32m   1520\u001b[39m     \u001b[38;5;28;01mif\u001b[39;00m data \u001b[38;5;129;01mis\u001b[39;00m \u001b[38;5;28;01mNone\u001b[39;00m:\n\u001b[32m-> \u001b[39m\u001b[32m1521\u001b[39m         \u001b[38;5;28;01mreturn\u001b[39;00m \u001b[43mfunc\u001b[49m\u001b[43m(\u001b[49m\n\u001b[32m   1522\u001b[39m \u001b[43m            \u001b[49m\u001b[43max\u001b[49m\u001b[43m,\u001b[49m\n\u001b[32m   1523\u001b[39m \u001b[43m            \u001b[49m\u001b[43m*\u001b[49m\u001b[38;5;28;43mmap\u001b[39;49m\u001b[43m(\u001b[49m\u001b[43mcbook\u001b[49m\u001b[43m.\u001b[49m\u001b[43msanitize_sequence\u001b[49m\u001b[43m,\u001b[49m\u001b[43m \u001b[49m\u001b[43margs\u001b[49m\u001b[43m)\u001b[49m\u001b[43m,\u001b[49m\n\u001b[32m   1524\u001b[39m \u001b[43m            \u001b[49m\u001b[43m*\u001b[49m\u001b[43m*\u001b[49m\u001b[43m{\u001b[49m\u001b[43mk\u001b[49m\u001b[43m:\u001b[49m\u001b[43m \u001b[49m\u001b[43mcbook\u001b[49m\u001b[43m.\u001b[49m\u001b[43msanitize_sequence\u001b[49m\u001b[43m(\u001b[49m\u001b[43mv\u001b[49m\u001b[43m)\u001b[49m\u001b[43m \u001b[49m\u001b[38;5;28;43;01mfor\u001b[39;49;00m\u001b[43m \u001b[49m\u001b[43mk\u001b[49m\u001b[43m,\u001b[49m\u001b[43m \u001b[49m\u001b[43mv\u001b[49m\u001b[43m \u001b[49m\u001b[38;5;129;43;01min\u001b[39;49;00m\u001b[43m \u001b[49m\u001b[43mkwargs\u001b[49m\u001b[43m.\u001b[49m\u001b[43mitems\u001b[49m\u001b[43m(\u001b[49m\u001b[43m)\u001b[49m\u001b[43m}\u001b[49m\u001b[43m)\u001b[49m\n\u001b[32m   1526\u001b[39m     bound = new_sig.bind(ax, *args, **kwargs)\n\u001b[32m   1527\u001b[39m     auto_label = (bound.arguments.get(label_namer)\n\u001b[32m   1528\u001b[39m                   \u001b[38;5;129;01mor\u001b[39;00m bound.kwargs.get(label_namer))\n",
      "\u001b[36mFile \u001b[39m\u001b[32m/work/mech-ai-scratch/aapowadi/miniforge3/envs/multi/lib/python3.11/site-packages/matplotlib/axes/_axes.py:5976\u001b[39m, in \u001b[36mAxes.imshow\u001b[39m\u001b[34m(self, X, cmap, norm, aspect, interpolation, alpha, vmin, vmax, colorizer, origin, extent, interpolation_stage, filternorm, filterrad, resample, url, **kwargs)\u001b[39m\n\u001b[32m   5973\u001b[39m \u001b[38;5;28;01mif\u001b[39;00m aspect \u001b[38;5;129;01mis\u001b[39;00m \u001b[38;5;129;01mnot\u001b[39;00m \u001b[38;5;28;01mNone\u001b[39;00m:\n\u001b[32m   5974\u001b[39m     \u001b[38;5;28mself\u001b[39m.set_aspect(aspect)\n\u001b[32m-> \u001b[39m\u001b[32m5976\u001b[39m \u001b[43mim\u001b[49m\u001b[43m.\u001b[49m\u001b[43mset_data\u001b[49m\u001b[43m(\u001b[49m\u001b[43mX\u001b[49m\u001b[43m)\u001b[49m\n\u001b[32m   5977\u001b[39m im.set_alpha(alpha)\n\u001b[32m   5978\u001b[39m \u001b[38;5;28;01mif\u001b[39;00m im.get_clip_path() \u001b[38;5;129;01mis\u001b[39;00m \u001b[38;5;28;01mNone\u001b[39;00m:\n\u001b[32m   5979\u001b[39m     \u001b[38;5;66;03m# image does not already have clipping set, clip to Axes patch\u001b[39;00m\n",
      "\u001b[36mFile \u001b[39m\u001b[32m/work/mech-ai-scratch/aapowadi/miniforge3/envs/multi/lib/python3.11/site-packages/matplotlib/image.py:685\u001b[39m, in \u001b[36m_ImageBase.set_data\u001b[39m\u001b[34m(self, A)\u001b[39m\n\u001b[32m    683\u001b[39m \u001b[38;5;28;01mif\u001b[39;00m \u001b[38;5;28misinstance\u001b[39m(A, PIL.Image.Image):\n\u001b[32m    684\u001b[39m     A = pil_to_array(A)  \u001b[38;5;66;03m# Needed e.g. to apply png palette.\u001b[39;00m\n\u001b[32m--> \u001b[39m\u001b[32m685\u001b[39m \u001b[38;5;28mself\u001b[39m._A = \u001b[38;5;28;43mself\u001b[39;49m\u001b[43m.\u001b[49m\u001b[43m_normalize_image_array\u001b[49m\u001b[43m(\u001b[49m\u001b[43mA\u001b[49m\u001b[43m)\u001b[49m\n\u001b[32m    686\u001b[39m \u001b[38;5;28mself\u001b[39m._imcache = \u001b[38;5;28;01mNone\u001b[39;00m\n\u001b[32m    687\u001b[39m \u001b[38;5;28mself\u001b[39m.stale = \u001b[38;5;28;01mTrue\u001b[39;00m\n",
      "\u001b[36mFile \u001b[39m\u001b[32m/work/mech-ai-scratch/aapowadi/miniforge3/envs/multi/lib/python3.11/site-packages/matplotlib/image.py:653\u001b[39m, in \u001b[36m_ImageBase._normalize_image_array\u001b[39m\u001b[34m(A)\u001b[39m\n\u001b[32m    651\u001b[39m     A = A.squeeze(-\u001b[32m1\u001b[39m)  \u001b[38;5;66;03m# If just (M, N, 1), assume scalar and apply colormap.\u001b[39;00m\n\u001b[32m    652\u001b[39m \u001b[38;5;28;01mif\u001b[39;00m \u001b[38;5;129;01mnot\u001b[39;00m (A.ndim == \u001b[32m2\u001b[39m \u001b[38;5;129;01mor\u001b[39;00m A.ndim == \u001b[32m3\u001b[39m \u001b[38;5;129;01mand\u001b[39;00m A.shape[-\u001b[32m1\u001b[39m] \u001b[38;5;129;01min\u001b[39;00m [\u001b[32m3\u001b[39m, \u001b[32m4\u001b[39m]):\n\u001b[32m--> \u001b[39m\u001b[32m653\u001b[39m     \u001b[38;5;28;01mraise\u001b[39;00m \u001b[38;5;167;01mTypeError\u001b[39;00m(\u001b[33mf\u001b[39m\u001b[33m\"\u001b[39m\u001b[33mInvalid shape \u001b[39m\u001b[38;5;132;01m{\u001b[39;00mA.shape\u001b[38;5;132;01m}\u001b[39;00m\u001b[33m for image data\u001b[39m\u001b[33m\"\u001b[39m)\n\u001b[32m    654\u001b[39m \u001b[38;5;28;01mif\u001b[39;00m A.ndim == \u001b[32m3\u001b[39m:\n\u001b[32m    655\u001b[39m     \u001b[38;5;66;03m# If the input data has values outside the valid range (after\u001b[39;00m\n\u001b[32m    656\u001b[39m     \u001b[38;5;66;03m# normalisation), we issue a warning and then clip X to the bounds\u001b[39;00m\n\u001b[32m    657\u001b[39m     \u001b[38;5;66;03m# - otherwise casting wraps extreme values, hiding outliers and\u001b[39;00m\n\u001b[32m    658\u001b[39m     \u001b[38;5;66;03m# making reliable interpretation impossible.\u001b[39;00m\n\u001b[32m    659\u001b[39m     high = \u001b[32m255\u001b[39m \u001b[38;5;28;01mif\u001b[39;00m np.issubdtype(A.dtype, np.integer) \u001b[38;5;28;01melse\u001b[39;00m \u001b[32m1\u001b[39m\n",
      "\u001b[31mTypeError\u001b[39m: Invalid shape (7, 16, 16) for image data"
     ]
    },
    {
     "data": {
      "image/png": "[encoded data removed]",
      "text/plain": [
       "<Figure size 2000x400 with 6 Axes>"
      ]
     },
     "metadata": {},
     "output_type": "display_data"
    }
   ],
   "source": [
    "# Example usage:\n",
    "dataset = MultiModalDataset(\n",
    "    sentinel1_dir='/work/mech-ai-scratch/rtali/gis-sentinel1/final_s1',\n",
    "    sentinel2_dir='/work/mech-ai-scratch/rtali/gis-sentinel2/final_s2_v3',\n",
    "    modis_dir='/work/mech-ai-scratch/rtali/gis-modis/modis',\n",
    "    crop_dir='/work/mech-ai-scratch/rtali/gis-CDL/final_CDL',\n",
    "    soil_dir='/work/mech-ai-scratch/rtali/AI_READY_IOWA/SOIL',\n",
    "    weather_dir='/work/mech-ai-scratch/rtali/AI_READY_IOWA/WEATHER_TIFFS',\n",
    "    transform=transforms.Normalize(mean=[0.5], std=[0.5])  # Adjust mean/std per channel if needed\n",
    ")\n",
    "\n",
    "# Get channel counts\n",
    "num_channels_list = [\n",
    "    len(dataset.s1_bands),      # 2 (Sentinel-1)\n",
    "    len(dataset.s2_bands),      # 13 (Sentinel-2)\n",
    "    len(dataset.modis_bands),   # 7 (MODIS)\n",
    "    len(dataset.cdl_bands),     # Update with actual count\n",
    "    len(dataset.soil_bands),     # 6 (Soil)\n",
    "    len(dataset.weather_bands)   # 7 (Weather)\n",
    "]\n",
    "display_sample(dataset)"
   ]
  },
  {
   "cell_type": "code",
   "execution_count": 5,
   "metadata": {},
   "outputs": [],
   "source": [
    "soil_dir = '/work/mech-ai-scratch/rtali/AI_READY_IOWA/SOIL'\n",
    "soil_bands = ['nccpi3all', 'nccpi3corn', 'rootznaws', 'soc0_150', 'soc0_999', 'pctearthmc']  # 6 variables\n",
    "path = os.path.join(soil_dir, f'merged_max_{soil_bands[0]}_resampled.tif')\n",
    "bbox = dataset._random_patch_coords()  # (left, bottom, right, top)"
   ]
  },
  {
   "cell_type": "code",
   "execution_count": 10,
   "metadata": {},
   "outputs": [
    {
     "data": {
      "text/plain": [
       "Window(col_off=np.float64(498.3962456132481), row_off=np.float64(19198.898445374576), width=np.float64(0.0001573733487134632), height=np.float64(0.00011567999899853021))"
      ]
     },
     "execution_count": 10,
     "metadata": {},
     "output_type": "execute_result"
    }
   ],
   "source": [
    "with rasterio.open(path) as src:\n",
    "    window = rasterio.windows.from_bounds(*bbox, transform=src.transform)\n",
    "    data = src.read(1, window=window, boundless=True, fill_value=np.nan)  # Handle out-of-bounds\n",
    "window\n"
   ]
  },
  {
   "cell_type": "code",
   "execution_count": 11,
   "metadata": {},
   "outputs": [
    {
     "data": {
      "text/plain": [
       "array([], shape=(0, 0), dtype=float32)"
      ]
     },
     "execution_count": 11,
     "metadata": {},
     "output_type": "execute_result"
    }
   ],
   "source": [
    "data"
   ]
  },
  {
   "cell_type": "code",
   "execution_count": null,
   "metadata": {},
   "outputs": [],
   "source": [
    "sample = dataset[0][0]"
   ]
  },
  {
   "cell_type": "code",
   "execution_count": null,
   "metadata": {},
   "outputs": [],
   "source": [
    "sample[5].shape"
   ]
  },
  {
   "cell_type": "code",
   "execution_count": null,
   "metadata": {},
   "outputs": [],
   "source": [
    "label_map = modality[0].numpy()  # (16, 16)\n",
    "unique_labels = np.unique(label_map)\n",
    "num_classes = len(unique_labels)\n",
    "cmap = plt.get_cmap('tab20', num_classes)  # Use tab20 for up to 20 classes\n",
    "im = axes[i].imshow(label_map, cmap=cmap, interpolation='nearest')\n",
    "cbar = fig.colorbar(im, ax=axes[i], orientation='vertical', fraction=0.05)\n",
    "cbar.set_label('Class Label')"
   ]
  },
  {
   "cell_type": "code",
   "execution_count": null,
   "metadata": {},
   "outputs": [],
   "source": [
    "crop_dir='/work/mech-ai-scratch/rtali/AI_READY_IOWA/CDL/IN4326'\n",
    "crop_file = os.path.join(crop_dir, f'IA_2023.nc')\n",
    "crop_data = xr.open_dataset(crop_file)\n",
    "crop_data"
   ]
  },
  {
   "cell_type": "code",
   "execution_count": null,
   "metadata": {},
   "outputs": [],
   "source": [
    "crop_data.isel(band=0)"
   ]
  },
  {
   "cell_type": "code",
   "execution_count": null,
   "metadata": {},
   "outputs": [],
   "source": []
  }
 ],
 "metadata": {
  "kernelspec": {
   "display_name": "Python 3 (ipykernel)",
   "language": "python",
   "name": "python3"
  },
  "language_info": {
   "codemirror_mode": {
    "name": "ipython",
    "version": 3
   },
   "file_extension": ".py",
   "mimetype": "text/x-python",
   "name": "python",
   "nbconvert_exporter": "python",
   "pygments_lexer": "ipython3",
   "version": "3.11.11"
  }
 },
 "nbformat": 4,
 "nbformat_minor": 2
}
